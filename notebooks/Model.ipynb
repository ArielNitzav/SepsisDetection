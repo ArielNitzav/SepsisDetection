{
 "cells": [
  {
   "cell_type": "code",
   "execution_count": 9,
   "id": "182621c3-0c40-4a08-a700-cdfecf093ac3",
   "metadata": {},
   "outputs": [],
   "source": [
    "import pandas as pd\n",
    "import numpy as np\n",
    "import seaborn as sns\n",
    "import matplotlib.pyplot as plt\n",
    "import pickle\n",
    "\n",
    "from sklearn.ensemble import RandomForestClassifier\n",
    "from sklearn.metrics import f1_score, precision_score, recall_score, roc_auc_score\n",
    "from sklearn.model_selection import KFold, RandomizedSearchCV"
   ]
  },
  {
   "cell_type": "code",
   "execution_count": 14,
   "id": "f8b3cbc0-ee0c-464f-8daa-b2567a634332",
   "metadata": {},
   "outputs": [],
   "source": [
    "train_rows = np.load('data/train_rows.npy')\n",
    "test_rows = np.load('data/test_rows.npy')"
   ]
  },
  {
   "cell_type": "code",
   "execution_count": 15,
   "id": "c5993ce6-e687-4b92-a1d9-ff2f83f9da1c",
   "metadata": {},
   "outputs": [],
   "source": [
    "X_train, y_train = train_rows[:, :-1], train_rows[:, -1]\n",
    "X_test, y_test = test_rows[:, :-1], test_rows[:, -1]"
   ]
  },
  {
   "cell_type": "markdown",
   "id": "f7b11969-ead5-4ca7-ba0a-a77d5da134a2",
   "metadata": {},
   "source": [
    "### Baseline model - Random forest classifier\n",
    "Using CV and hyperparameter tuning to find the best model:"
   ]
  },
  {
   "cell_type": "code",
   "execution_count": 16,
   "id": "a1a22b66-28b4-4b11-928e-2fcf24978bc2",
   "metadata": {},
   "outputs": [
    {
     "name": "stdout",
     "output_type": "stream",
     "text": [
      "Best: 0.706858 using {'n_estimators': 200, 'max_leaf_nodes': 500, 'max_depth': 10}\n"
     ]
    }
   ],
   "source": [
    "param_grid = {\n",
    "    'n_estimators': [100, 150, 200, 250],\n",
    "    'max_depth': [10, 20, 30, 40, 45, 50, 55],\n",
    "    'max_leaf_nodes': [500, 600, 700, 750, 800, 850]\n",
    "}\n",
    "\n",
    "# Training via CV\n",
    "model = RandomForestClassifier(random_state=0, class_weight='balanced')\n",
    "kfold = KFold(n_splits=3, shuffle=True, random_state=42)\n",
    "grid_search = RandomizedSearchCV(model, param_grid, scoring=\"f1\", n_iter=100, cv=kfold)\n",
    "grid_result_RFC = grid_search.fit(X_train, y_train)\n",
    "\n",
    "# summarize results\n",
    "print(\"Best: %f using %s\" % (grid_result_RFC.best_score_, grid_result_RFC.best_params_))\n",
    "means_RFC = grid_result_RFC.cv_results_['mean_test_score']\n",
    "stds_RFC = grid_result_RFC.cv_results_['std_test_score']\n",
    "params_RFC = grid_result_RFC.cv_results_['params']"
   ]
  },
  {
   "cell_type": "markdown",
   "id": "c4e3f768-e1bd-4513-8bff-1b692fdecff8",
   "metadata": {},
   "source": [
    "#### Model performance"
   ]
  },
  {
   "cell_type": "code",
   "execution_count": 19,
   "id": "451a4337-eb8c-476b-8472-77f95be34210",
   "metadata": {},
   "outputs": [
    {
     "name": "stdout",
     "output_type": "stream",
     "text": [
      "Precision on the train set: 0.91\n",
      "Recall on the train set: 0.857\n",
      "F1 score on the train set: 0.882\n",
      "\n",
      "Precision on the test set: 0.81\n",
      "Recall on the test set: 0.617\n",
      "F1 score on the test set: 0.7\n"
     ]
    }
   ],
   "source": [
    "clf = RandomForestClassifier(random_state=0, class_weight='balanced', **grid_result_RFC.best_params_)\n",
    "clf.fit(X_train, y_train)\n",
    "\n",
    "y_train_pred = clf.predict(X_train)\n",
    "print(f'Precision on the train set: {round(precision_score(y_train, y_train_pred), 3)}')\n",
    "print(f'Recall on the train set: {round(recall_score(y_train, y_train_pred), 3)}')\n",
    "print(f'F1 score on the train set: {round(f1_score(y_train, y_train_pred), 3)}\\n')\n",
    "\n",
    "y_test_pred = clf.predict(X_test)\n",
    "print(f'Precision on the test set: {round(precision_score(y_test, y_test_pred), 3)}')\n",
    "print(f'Recall on the test set: {round(recall_score(y_test, y_test_pred), 3)}')\n",
    "print(f'F1 score on the test set: {round(f1_score(y_test, y_test_pred), 3)}')\n",
    "\n",
    "with open('Model_pickles/grid_result_RFC.pkl', 'wb') as file:\n",
    "    pickle.dump(grid_result_RFC, file)\n",
    "\n",
    "with open('Model_pickles/best_model_RFC.pkl', 'wb') as file:\n",
    "    pickle.dump(clf, file)"
   ]
  },
  {
   "cell_type": "markdown",
   "id": "473efb04-3b6a-4ba9-b246-d95ebefa8508",
   "metadata": {},
   "source": [
    "#### Interpretability\n",
    "Feature importance:"
   ]
  },
  {
   "cell_type": "code",
   "execution_count": 20,
   "id": "9a3e6242-8c0f-48df-a770-d4e3b29c3748",
   "metadata": {},
   "outputs": [
    {
     "name": "stdout",
     "output_type": "stream",
     "text": [
      "Top features:\n",
      "(0.08124, 'ICULOS_0.75')\n",
      "(0.07937, 'ICULOS_1')\n",
      "(0.06966, 'ICULOS_0.5')\n",
      "(0.0672, 'ICULOS_mean')\n",
      "(0.06315, 'ICULOS_0.25')\n",
      "(0.01926, 'FiO2_miss_flag_mean')\n",
      "(0.01354, 'Creatinine_miss_flag_mean')\n",
      "(0.01198, 'BUN_miss_flag_mean')\n",
      "(0.01111, 'Temp_1')\n",
      "(0.0105, 'Potassium_miss_flag_mean')\n",
      "(0.01048, 'Lactate_miss_flag_mean')\n",
      "(0.01027, 'SBP_miss_flag_mean')\n",
      "(0.00963, 'pH_miss_flag_mean')\n",
      "(0.00958, 'Hgb_miss_flag_mean')\n",
      "(0.00925, 'WBC_miss_flag_mean')\n",
      "(0.00917, 'Temp_miss_flag_mean')\n",
      "(0.00871, 'FiO2_mean')\n",
      "(0.00797, 'Temp_mean')\n",
      "(0.00779, 'PaCO2_miss_flag_mean')\n",
      "(0.00738, 'Platelets_miss_flag_mean')\n",
      "(0.00736, 'Resp_miss_flag_mean')\n",
      "(0.00653, 'Resp_mean')\n",
      "(0.00644, 'Glucose_miss_flag_mean')\n",
      "(0.00632, 'Hct_0.5')\n",
      "(0.00624, 'Temp_0.75')\n",
      "\n",
      "\n",
      "least important features:\n",
      "(2e-05, 'TroponinI_miss_flag_0.5')\n",
      "(2e-05, 'SaO2_miss_flag_0.75')\n",
      "(2e-05, 'Phosphate_miss_flag_0')\n",
      "(2e-05, 'PaCO2_miss_flag_0.25')\n",
      "(2e-05, 'PTT_miss_flag_0.5')\n",
      "(2e-05, 'Magnesium_miss_flag_0.5')\n",
      "(2e-05, 'Hgb_miss_flag_0.5')\n",
      "(2e-05, 'Alkalinephos_miss_flag_0')\n",
      "(2e-05, 'AST_miss_flag_1')\n",
      "(2e-05, 'AST_miss_flag_0.5')\n",
      "(2e-05, 'AST_miss_flag_0.25')\n",
      "(1e-05, 'TroponinI_miss_flag_0')\n",
      "(1e-05, 'Creatinine_miss_flag_0.5')\n",
      "(1e-05, 'Bilirubin_total_miss_flag_0.25')\n",
      "(1e-05, 'Bilirubin_direct_0.5')\n",
      "(1e-05, 'Alkalinephos_miss_flag_0.5')\n",
      "(1e-05, 'AST_miss_flag_0.75')\n",
      "(1e-05, 'AST_miss_flag_0')\n",
      "(0.0, 'Fibrinogen_miss_flag_0.5')\n",
      "(0.0, 'Bilirubin_total_miss_flag_1')\n",
      "(0.0, 'Bilirubin_direct_miss_flag_1')\n",
      "(0.0, 'Bilirubin_direct_miss_flag_0.75')\n",
      "(0.0, 'Bilirubin_direct_miss_flag_0.5')\n",
      "(0.0, 'Bilirubin_direct_miss_flag_0.25')\n",
      "(0.0, 'Bilirubin_direct_miss_flag_0')\n"
     ]
    }
   ],
   "source": [
    "with open('data/features_names.pkl', 'rb') as file:\n",
    "    features_names = pickle.load(file)\n",
    "\n",
    "features_importances = sorted([(round(score, 5), name) for score, name in zip(clf.feature_importances_.tolist(), features_names)], reverse=True)\n",
    "print('Top features:')\n",
    "for f in features_importances[:25]:\n",
    "    print(f)\n",
    "print('\\n')\n",
    "print('least important features:')\n",
    "for f in features_importances[-25:]:\n",
    "    print(f)"
   ]
  },
  {
   "cell_type": "code",
   "execution_count": 21,
   "id": "7119d6b6-42da-426d-82af-45f819e5624a",
   "metadata": {},
   "outputs": [],
   "source": [
    "with open('data/features_names.pkl', 'rb') as file:\n",
    "    features_names = pickle.load(file)\n",
    "    features_to_idx = {f: i for i, f in enumerate(features_names)}"
   ]
  },
  {
   "cell_type": "code",
   "execution_count": 22,
   "id": "e1f8b95c-eb07-450d-82ff-cb6d0df47605",
   "metadata": {},
   "outputs": [],
   "source": [
    "missing_flag_frac_features = []\n",
    "for frac in [0, 0.25, 0.5, 0.75, 1]:\n",
    "    for f in features_names:\n",
    "        if str(frac) in f and 'miss_flag' in f and 'mean' not in 'f':\n",
    "            missing_flag_frac_features.append(f)\n",
    "            \n",
    "missing_rates_test = np.sum(X_test[: ,[features_to_idx[f] for f in missing_flag_frac_features]], axis=1)\n",
    "idx_most_missing = np.argpartition(missing_rates_test, 1000)[:1000]\n",
    "idx_least_missing = np.argpartition(missing_rates_test, -1000)[-1000:]"
   ]
  },
  {
   "cell_type": "code",
   "execution_count": 23,
   "id": "3e46eceb-2e7f-4a79-a61c-1cfc7157afdd",
   "metadata": {},
   "outputs": [
    {
     "data": {
      "image/png": "[encoded data removed]",
      "text/plain": [
       "<Figure size 432x288 with 1 Axes>"
      ]
     },
     "metadata": {
      "needs_background": "light"
     },
     "output_type": "display_data"
    }
   ],
   "source": [
    "plt.hist(missing_rates_test[idx_most_missing], bins=50, label='Most missing')\n",
    "plt.hist(missing_rates_test[idx_least_missing], bins=50, label='Least missing')\n",
    "plt.legend()\n",
    "plt.show()"
   ]
  },
  {
   "cell_type": "code",
   "execution_count": 24,
   "id": "5b1a37e8-680b-4826-9c1b-9044565a5b7e",
   "metadata": {},
   "outputs": [
    {
     "name": "stdout",
     "output_type": "stream",
     "text": [
      "Precision on 1000 patients who have the most missing data: 0.967\n",
      "Recall on 1000 patients who have the most missing data: 0.944\n",
      "F1 on 1000 patients who have the most missing data: 0.955\n",
      "\n",
      "Precision on 1000 patients who have the least amount of missing data: 0.952\n",
      "Recall on 1000 patients who have the least amount of missing data: 0.608\n",
      "F1 on 1000 patients who have the least amount of missing data: 0.742\n"
     ]
    }
   ],
   "source": [
    "y_test_pred_most_missing = clf.predict(X_test[idx_most_missing, :])\n",
    "print(f'Precision on 1000 patients who have the most missing data: {round(precision_score(y_test[idx_most_missing], y_test_pred_most_missing), 3)}')\n",
    "print(f'Recall on 1000 patients who have the most missing data: {round(recall_score(y_test[idx_most_missing], y_test_pred_most_missing), 3)}')\n",
    "print(f'F1 on 1000 patients who have the most missing data: {round(f1_score(y_test[idx_most_missing], y_test_pred_most_missing), 3)}\\n')\n",
    "\n",
    "y_test_pred_least_missing = clf.predict(X_test[idx_least_missing, :])\n",
    "print(f'Precision on 1000 patients who have the least amount of missing data: {round(precision_score(y_test[idx_least_missing], y_test_pred_least_missing), 3)}')\n",
    "print(f'Recall on 1000 patients who have the least amount of missing data: {round(recall_score(y_test[idx_least_missing], y_test_pred_least_missing), 3)}')\n",
    "print(f'F1 on 1000 patients who have the least amount of missing data: {round(f1_score(y_test[idx_least_missing], y_test_pred_least_missing), 3)}')"
   ]
  },
  {
   "cell_type": "code",
   "execution_count": 25,
   "id": "f28865b9-fbd3-4575-a895-62bc5821e324",
   "metadata": {},
   "outputs": [
    {
     "name": "stdout",
     "output_type": "stream",
     "text": [
      "Number of seniors: 2236\n",
      "Precision on seniors (older than 75): 0.864\n",
      "Recall on seniors (older than 75): 0.648\n",
      "F1 on seniors (older than 75): 0.74\n"
     ]
    }
   ],
   "source": [
    "age = X_test[:, features_to_idx['Age']]\n",
    "seniors_idx = (age > 75)\n",
    "\n",
    "print(f'Number of seniors: {len(X_test[seniors_idx])}')\n",
    "y_test_pred_seniors = clf.predict(X_test[seniors_idx])\n",
    "print(f'Precision on seniors (older than 75): {round(precision_score(y_test[seniors_idx], y_test_pred_seniors), 3)}')\n",
    "print(f'Recall on seniors (older than 75): {round(recall_score(y_test[seniors_idx], y_test_pred_seniors), 3)}')\n",
    "print(f'F1 on seniors (older than 75): {round(f1_score(y_test[seniors_idx], y_test_pred_seniors), 3)}')"
   ]
  },
  {
   "cell_type": "markdown",
   "id": "88e833bb-6244-41e4-8c1e-22faa75fd560",
   "metadata": {},
   "source": [
    "### Advanced model - XGBoost classifier\n",
    "Using CV and hyperparameter tuning to find the best model:"
   ]
  },
  {
   "cell_type": "code",
   "execution_count": 31,
   "id": "38bfc534-50ee-4c1e-b970-405e1636f776",
   "metadata": {},
   "outputs": [
    {
     "name": "stdout",
     "output_type": "stream",
     "text": [
      "Best: 0.760867 using {'subsample': 0.9699999999999999, 'min_child_weight': 0.9281, 'max_depth': 10, 'learning_rate': 0.14500000000000005, 'lambda': 3, 'gamma': 6.11, 'colsample_bytree': 0.8500000000000001, 'colsample_bylevel': 1.0}\n"
     ]
    }
   ],
   "source": [
    "from xgboost import XGBClassifier\n",
    "\n",
    "param_grid = {\n",
    "        'max_depth': [3, 4, 5, 6, 7, 8, 9, 10, 11, 12],\n",
    "        'lambda': [0, 0.5, 1, 1.5, 2, 3, 4.5],\n",
    "        'min_child_weight': np.arange(0.0001, 1.5, 0.001),\n",
    "        'gamma': np.arange(0.0, 10.0, 0.005),\n",
    "        'learning_rate': np.arange(0.09, 0.3, 0.005),\n",
    "        'subsample': np.arange(0.05, 1.0, 0.04),\n",
    "        'colsample_bylevel': np.round(np.arange(0.8, 1.2, 0.05)),\n",
    "        'colsample_bytree': np.arange(0.8, 1.0, 0.05)}\n",
    "\n",
    "labels, counts = np.unique(y_train, return_counts=True)\n",
    "model = XGBClassifier(scale_pos_weight=counts[0]/counts[1])\n",
    "kfold = KFold(n_splits=3, shuffle=True, random_state=42)\n",
    "grid_search = RandomizedSearchCV(model, param_grid, scoring=\"f1\", n_iter=300, cv=kfold)\n",
    "grid_result_XGB = grid_search.fit(X_train, y_train)\n",
    "\n",
    "# summarize results\n",
    "print(\"Best: %f using %s\" % (grid_result_XGB.best_score_, grid_result_XGB.best_params_))\n",
    "means_XGB = grid_result_XGB.cv_results_['mean_test_score']\n",
    "stds_XGB = grid_result_XGB.cv_results_['std_test_score']\n",
    "params_XGB = grid_result_XGB.cv_results_['params']"
   ]
  },
  {
   "cell_type": "markdown",
   "id": "7fd56a7a-78a7-471e-8247-c415098bf288",
   "metadata": {},
   "source": [
    "#### Model performance"
   ]
  },
  {
   "cell_type": "code",
   "execution_count": 33,
   "id": "a8832df1-e396-47ea-b185-046c8265bbd8",
   "metadata": {},
   "outputs": [
    {
     "data": {
      "text/plain": [
       "XGBClassifier(base_score=0.5, booster='gbtree', callbacks=None,\n",
       "              colsample_bylevel=1.0, colsample_bynode=1,\n",
       "              colsample_bytree=0.8500000000000001, early_stopping_rounds=None,\n",
       "              enable_categorical=False, eval_metric=None, gamma=6.11, gpu_id=-1,\n",
       "              grow_policy='depthwise', importance_type=None,\n",
       "              interaction_constraints='', lambda=3,\n",
       "              learning_rate=0.14500000000000005, max_bin=256,\n",
       "              max_cat_to_onehot=4, max_delta_step=0, max_depth=10, max_leaves=0,\n",
       "              min_child_weight=0.9281, missing=nan, monotone_constraints='()',\n",
       "              n_estimators=100, n_jobs=0, num_parallel_tree=1, predictor='auto',\n",
       "              random_state=0, reg_alpha=0, ...)"
      ]
     },
     "execution_count": 33,
     "metadata": {},
     "output_type": "execute_result"
    }
   ],
   "source": [
    "model = XGBClassifier(scale_pos_weight=counts[0]/counts[1], **grid_result_XGB.best_params_)\n",
    "model.fit(X_train, y_train)"
   ]
  },
  {
   "cell_type": "code",
   "execution_count": 34,
   "id": "290fd986-25c6-41c0-93f1-1ce1895c6288",
   "metadata": {},
   "outputs": [
    {
     "name": "stdout",
     "output_type": "stream",
     "text": [
      "Precision on the train set: 0.972\n",
      "Recall on the train set: 1.0\n",
      "F1 score on the train set: 0.986\n",
      "\n",
      "Precision on the test set: 0.818\n",
      "Recall on the test set: 0.706\n",
      "F1 score on the test set: 0.758\n"
     ]
    }
   ],
   "source": [
    "y_train_pred = model.predict(X_train)\n",
    "print(f'Precision on the train set: {round(precision_score(y_train, y_train_pred), 3)}')\n",
    "print(f'Recall on the train set: {round(recall_score(y_train, y_train_pred), 3)}')\n",
    "print(f'F1 score on the train set: {round(f1_score(y_train, y_train_pred), 3)}\\n')\n",
    "\n",
    "y_test_pred = model.predict(X_test)\n",
    "print(f'Precision on the test set: {round(precision_score(y_test, y_test_pred), 3)}')\n",
    "print(f'Recall on the test set: {round(recall_score(y_test, y_test_pred), 3)}')\n",
    "print(f'F1 score on the test set: {round(f1_score(y_test, y_test_pred), 3)}')\n",
    "\n",
    "with open('Model_pickles/grid_result_XGB.pkl', 'wb') as file:\n",
    "    pickle.dump(grid_result_XGB, file)\n",
    "\n",
    "with open('Model_pickles/best_model_XGB.pkl', 'wb') as file:\n",
    "    pickle.dump(model, file)"
   ]
  },
  {
   "cell_type": "markdown",
   "id": "6d42092e-94c8-443c-8582-23c6719e3592",
   "metadata": {},
   "source": [
    "#### Interpretability\n",
    "Feature importance:"
   ]
  },
  {
   "cell_type": "code",
   "execution_count": 35,
   "id": "b5b0790a-4fa4-40b1-86ee-dad6aa954028",
   "metadata": {},
   "outputs": [
    {
     "name": "stdout",
     "output_type": "stream",
     "text": [
      "Top features:\n",
      "(0.05964, 'ICULOS_0.75')\n",
      "(0.04694, 'ICULOS_1')\n",
      "(0.01476, 'FiO2_miss_flag_mean')\n",
      "(0.0145, 'PaCO2_miss_flag_1')\n",
      "(0.01389, 'EtCO2_miss_flag_1')\n",
      "(0.0107, 'Hgb_miss_flag_0')\n",
      "(0.01058, 'Lactate_miss_flag_mean')\n",
      "(0.00984, 'Hct_miss_flag_0.75')\n",
      "(0.00956, 'Unit2_0')\n",
      "(0.00863, 'Temp_1')\n",
      "(0.00862, 'DBP_miss_flag_0.25')\n",
      "(0.00724, 'WBC_miss_flag_0.5')\n",
      "(0.00685, 'FiO2_miss_flag_1')\n",
      "(0.00685, 'DBP_miss_flag_0.5')\n",
      "(0.00655, 'SaO2_miss_flag_0.5')\n",
      "(0.00653, 'AST_mean')\n",
      "(0.0065, 'Alkalinephos_miss_flag_mean')\n",
      "(0.00629, 'BUN_0.75')\n",
      "(0.00619, 'SBP_miss_flag_mean')\n",
      "(0.00616, 'Fibrinogen_0.25')\n",
      "(0.00597, 'HR_miss_flag_1')\n",
      "(0.00552, 'SaO2_miss_flag_0')\n",
      "(0.00548, 'SBP_miss_flag_0.5')\n",
      "(0.00545, 'Fibrinogen_mean')\n",
      "(0.00529, 'Alkalinephos_0.5')\n",
      "\n",
      "\n",
      "least important features:\n",
      "(0.0, 'Bilirubin_direct_miss_flag_0.25')\n",
      "(0.0, 'Bilirubin_direct_miss_flag_0')\n",
      "(0.0, 'Bilirubin_direct_mean')\n",
      "(0.0, 'Bilirubin_direct_1')\n",
      "(0.0, 'Bilirubin_direct_0.75')\n",
      "(0.0, 'Bilirubin_direct_0.5')\n",
      "(0.0, 'Bilirubin_direct_0.25')\n",
      "(0.0, 'BaseExcess_miss_flag_1')\n",
      "(0.0, 'BaseExcess_miss_flag_0.75')\n",
      "(0.0, 'BaseExcess_miss_flag_0.5')\n",
      "(0.0, 'BaseExcess_miss_flag_0.25')\n",
      "(0.0, 'BaseExcess_miss_flag_0')\n",
      "(0.0, 'BUN_miss_flag_1')\n",
      "(0.0, 'BUN_miss_flag_0.75')\n",
      "(0.0, 'BUN_miss_flag_0.5')\n",
      "(0.0, 'BUN_miss_flag_0.25')\n",
      "(0.0, 'Alkalinephos_miss_flag_1')\n",
      "(0.0, 'Alkalinephos_miss_flag_0.75')\n",
      "(0.0, 'Alkalinephos_miss_flag_0.5')\n",
      "(0.0, 'Alkalinephos_miss_flag_0.25')\n",
      "(0.0, 'Alkalinephos_miss_flag_0')\n",
      "(0.0, 'Alkalinephos_mean')\n",
      "(0.0, 'AST_miss_flag_1')\n",
      "(0.0, 'AST_miss_flag_0.75')\n",
      "(0.0, 'AST_miss_flag_0')\n"
     ]
    }
   ],
   "source": [
    "features_importances = sorted([(round(score, 5), name) for score, name in zip(model.feature_importances_.tolist(), features_names)], reverse=True)\n",
    "print('Top features:')\n",
    "for f in features_importances[:25]:\n",
    "    print(f)\n",
    "print('\\n')\n",
    "print('least important features:')\n",
    "for f in features_importances[-25:]:\n",
    "    print(f)"
   ]
  },
  {
   "cell_type": "code",
   "execution_count": 36,
   "id": "ef469d61-321a-4d50-82f4-614673995d91",
   "metadata": {},
   "outputs": [
    {
     "name": "stdout",
     "output_type": "stream",
     "text": [
      "Precision on 1000 patients who have the most missing data: 0.968\n",
      "Recall on 1000 patients who have the most missing data: 0.976\n",
      "F1 on 1000 patients who have the most missing data: 0.972\n",
      "\n",
      "Precision on 1000 patients who have the least amount of missing data: 0.89\n",
      "Recall on 1000 patients who have the least amount of missing data: 0.753\n",
      "F1 on 1000 patients who have the least amount of missing data: 0.816\n"
     ]
    }
   ],
   "source": [
    "y_test_pred_most_missing = model.predict(X_test[idx_most_missing, :])\n",
    "print(f'Precision on 1000 patients who have the most missing data: {round(precision_score(y_test[idx_most_missing], y_test_pred_most_missing), 3)}')\n",
    "print(f'Recall on 1000 patients who have the most missing data: {round(recall_score(y_test[idx_most_missing], y_test_pred_most_missing), 3)}')\n",
    "print(f'F1 on 1000 patients who have the most missing data: {round(f1_score(y_test[idx_most_missing], y_test_pred_most_missing), 3)}\\n')\n",
    "\n",
    "y_test_pred_least_missing = model.predict(X_test[idx_least_missing, :])\n",
    "print(f'Precision on 1000 patients who have the least amount of missing data: {round(precision_score(y_test[idx_least_missing], y_test_pred_least_missing), 3)}')\n",
    "print(f'Recall on 1000 patients who have the least amount of missing data: {round(recall_score(y_test[idx_least_missing], y_test_pred_least_missing), 3)}')\n",
    "print(f'F1 on 1000 patients who have the least amount of missing data: {round(f1_score(y_test[idx_least_missing], y_test_pred_least_missing), 3)}')"
   ]
  },
  {
   "cell_type": "code",
   "execution_count": 37,
   "id": "48d01615-400b-4fdd-a3c5-ed4a0d8d0a5b",
   "metadata": {},
   "outputs": [
    {
     "name": "stdout",
     "output_type": "stream",
     "text": [
      "Number of seniors: 2236\n",
      "Precision on seniors (older than 75): 0.867\n",
      "Recall on seniors (older than 75): 0.739\n",
      "F1 on seniors (older than 75): 0.798\n"
     ]
    }
   ],
   "source": [
    "print(f'Number of seniors: {len(X_test[seniors_idx])}')\n",
    "y_test_pred_seniors = model.predict(X_test[seniors_idx])\n",
    "print(f'Precision on seniors (older than 75): {round(precision_score(y_test[seniors_idx], y_test_pred_seniors), 3)}')\n",
    "print(f'Recall on seniors (older than 75): {round(recall_score(y_test[seniors_idx], y_test_pred_seniors), 3)}')\n",
    "print(f'F1 on seniors (older than 75): {round(f1_score(y_test[seniors_idx], y_test_pred_seniors), 3)}')"
   ]
  },
  {
   "cell_type": "code",
   "execution_count": null,
   "id": "1532864e-8be7-4897-bcb6-e1abc5e80d49",
   "metadata": {},
   "outputs": [
    {
     "name": "stdout",
     "output_type": "stream",
     "text": [
      "Precision on the test set: 0.818\n",
      "Recall on the test set: 0.706\n",
      "F1 score on the test set: 0.758\n"
     ]
    }
   ],
   "source": [
    "with open('Model_pickles/best_model_XGB.pkl', 'rb') as file:\n",
    "    mo = pickle.load(file)\n",
    "\n",
    "y_test_pred = mo.predict(X_test)\n",
    "print(f'Precision on the test set: {round(precision_score(y_test, y_test_pred), 3)}')\n",
    "print(f'Recall on the test set: {round(recall_score(y_test, y_test_pred), 3)}')\n",
    "print(f'F1 score on the test set: {round(f1_score(y_test, y_test_pred), 3)}')\n"
   ]
  }
 ],
 "metadata": {
  "kernelspec": {
   "display_name": "Python 3 (ipykernel)",
   "language": "python",
   "name": "python3"
  },
  "language_info": {
   "codemirror_mode": {
    "name": "ipython",
    "version": 3
   },
   "file_extension": ".py",
   "mimetype": "text/x-python",
   "name": "python",
   "nbconvert_exporter": "python",
   "pygments_lexer": "ipython3",
   "version": "3.8.13"
  }
 },
 "nbformat": 4,
 "nbformat_minor": 5
}
