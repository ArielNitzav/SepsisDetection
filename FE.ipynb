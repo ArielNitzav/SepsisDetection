{
 "cells": [
  {
   "cell_type": "code",
   "execution_count": 1,
   "id": "6fd5c87b-44b2-42f0-afbe-81825da90b47",
   "metadata": {},
   "outputs": [],
   "source": [
    "import os\n",
    "import pandas as pd\n",
    "import numpy as np\n",
    "import seaborn as sns\n",
    "import matplotlib.pyplot as plt\n",
    "import math\n",
    "import pickle"
   ]
  },
  {
   "cell_type": "code",
   "execution_count": 2,
   "id": "bae28779-4a4d-4fe6-9970-7af0b4d1b551",
   "metadata": {},
   "outputs": [],
   "source": [
    "with open('EDA_pickles/col_lists_dict.pkl', 'rb') as file:\n",
    "    col_lists_dict = pickle.load(file)\n",
    "    \n",
    "with open('EDA_pickles/global_values_dict.pkl', 'rb') as file:\n",
    "    global_values_dict = pickle.load(file)"
   ]
  },
  {
   "cell_type": "code",
   "execution_count": 3,
   "id": "85b60d2c-229d-440a-a798-a6382c3f76ac",
   "metadata": {},
   "outputs": [],
   "source": [
    "def table_to_feature_vec(df):\n",
    "    # create missing flags for features with missing values\n",
    "    for col in col_lists_dict['cols_with_missing']:\n",
    "        df[col + '_miss_flag'] = df[col].notnull().astype(int)\n",
    "    \n",
    "    # log transform to non-binary columns\n",
    "    for col in col_lists_dict['cols_with_missing_not_binary']:\n",
    "        if col in ['BaseExcess', 'O2Sat', 'FiO2', 'SaO2', 'Hct']:\n",
    "            continue\n",
    "        df[col] = df[col].apply(lambda x: math.log(abs(x)+1))\n",
    "\n",
    "    # linear interpolation\n",
    "    df = df.interpolate(limit_direction='both')\n",
    "    \n",
    "    # fill the left NAN values with the global medians found in the EDA\n",
    "    for col in col_lists_dict['cols_with_missing']:\n",
    "        df[col] = df[col].fillna(global_values_dict[col])\n",
    "    \n",
    "    # Repeat rows for timewise examination\n",
    "    len_df = len(df)-1\n",
    "    cols_to_repeat = col_lists_dict['cols_with_missing'] + [col + '_miss_flag' for col in col_lists_dict['cols_with_missing']] + ['ICULOS']\n",
    "    sampled_rows = df[cols_to_repeat].iloc[[len_df*frac for frac in [0, 0.25, 0.5, 0.75, 1]]].fillna(0)\n",
    "    finished_row = np.hstack(sampled_rows.to_numpy())\n",
    "    finished_row = np.hstack([df[['Age', 'Gender', 'HospAdmTime']].iloc[0].fillna(0).to_numpy(), finished_row, df[cols_to_repeat].mean().fillna(0).to_numpy(), int(bool(df['SepsisLabel'].fillna(0).sum()))])\n",
    "    \n",
    "    return finished_row"
   ]
  },
  {
   "cell_type": "code",
   "execution_count": 4,
   "id": "51c04b66-b07f-4572-883b-3613a90f88f2",
   "metadata": {},
   "outputs": [],
   "source": [
    "train_path = 'data/train_orig/'\n",
    "\n",
    "train_rows = []\n",
    "for file in os.listdir(train_path):\n",
    "    # load original df\n",
    "    try:\n",
    "        df = pd.read_csv(train_path + file, sep='|')\n",
    "        # find first row with SepsisLabel == 1\n",
    "        for idx, row in df.iterrows():\n",
    "            if row['SepsisLabel'] == 1:\n",
    "                break\n",
    "        # trim the df accordingly\n",
    "        df = df.iloc[:idx+1, :]\n",
    "        row = table_to_feature_vec(df)\n",
    "        train_rows.append(row)\n",
    "    except:\n",
    "        continue\n",
    "\n",
    "train_rows = np.array(train_rows)\n",
    "np.save('data/train_rows.npy', train_rows)"
   ]
  },
  {
   "cell_type": "code",
   "execution_count": 5,
   "id": "c79cc8b3-3f00-4985-97a1-d50454ed7569",
   "metadata": {},
   "outputs": [],
   "source": [
    "test_path = 'data/test/'\n",
    "\n",
    "test_rows = []\n",
    "for file in os.listdir(test_path):\n",
    "    # load original df\n",
    "    try:\n",
    "        df = pd.read_csv(test_path + file, sep='|')\n",
    "        # find first row with SepsisLabel == 1\n",
    "        for idx, row in df.iterrows():\n",
    "            if row['SepsisLabel'] == 1:\n",
    "                break\n",
    "        # trim the df accordingly\n",
    "        df = df.iloc[:idx+1, :]\n",
    "        # save the trimmed df in a new directory\n",
    "        row = table_to_feature_vec(df)\n",
    "        test_rows.append(row)\n",
    "    except:\n",
    "        continue\n",
    "\n",
    "test_rows = np.array(test_rows)\n",
    "np.save('data/test_rows.npy', test_rows)"
   ]
  },
  {
   "cell_type": "code",
   "execution_count": 6,
   "id": "b49e4921-61ff-4aa4-8d77-ca71c2dd3d3b",
   "metadata": {},
   "outputs": [],
   "source": [
    "def get_features_vec_names(df):\n",
    "    # create missing flags for features with missing values\n",
    "    for col in col_lists_dict['cols_with_missing']:\n",
    "        df[col + '_miss_flag'] = 0\n",
    "    \n",
    "    for col in col_lists_dict['cols_with_missing_not_binary']:\n",
    "        if col in ['BaseExcess', 'O2Sat', 'FiO2', 'SaO2', 'Hct']:\n",
    "            continue\n",
    "        df[col] = 0\n",
    "\n",
    "    cols_to_repeat = col_lists_dict['cols_with_missing'] + [col + '_miss_flag' for col in col_lists_dict['cols_with_missing']] + ['ICULOS']\n",
    "    features_names = []\n",
    "    for frac in [0, 0.25, 0.5, 0.75, 1]:\n",
    "        for col in cols_to_repeat:\n",
    "            features_names.append(f'{col}_{frac}')\n",
    "    features_names = ['Age', 'Gender', 'HospAdmTime'] + features_names + [f'{col}_mean' for col in cols_to_repeat]\n",
    "    \n",
    "    return features_names"
   ]
  },
  {
   "cell_type": "code",
   "execution_count": 7,
   "id": "672e899b-0288-4fe2-b457-e814e15c7e03",
   "metadata": {},
   "outputs": [],
   "source": [
    "features_names = get_features_vec_names(df)\n",
    "\n",
    "with open('data/features_names.pkl', 'wb') as file:\n",
    "    pickle.dump(features_names, file)"
   ]
  }
 ],
 "metadata": {
  "kernelspec": {
   "display_name": "Python 3 (ipykernel)",
   "language": "python",
   "name": "python3"
  },
  "language_info": {
   "codemirror_mode": {
    "name": "ipython",
    "version": 3
   },
   "file_extension": ".py",
   "mimetype": "text/x-python",
   "name": "python",
   "nbconvert_exporter": "python",
   "pygments_lexer": "ipython3",
   "version": "3.8.13"
  }
 },
 "nbformat": 4,
 "nbformat_minor": 5
}
