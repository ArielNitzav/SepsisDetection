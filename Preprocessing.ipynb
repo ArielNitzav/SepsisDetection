{
 "cells": [
  {
   "cell_type": "code",
   "execution_count": 3,
   "id": "773429c5-2fb4-4ad1-8476-172d9b234067",
   "metadata": {},
   "outputs": [],
   "source": [
    "import os\n",
    "import pandas as pd"
   ]
  },
  {
   "cell_type": "code",
   "execution_count": 24,
   "id": "12c04ee5-e2e9-4a4b-86f0-822a57d67ca5",
   "metadata": {},
   "outputs": [],
   "source": [
    "orig_train_path = 'data/train_orig/'\n",
    "train_path = 'data/train/'\n",
    "\n",
    "for file in os.listdir(orig_train_path):\n",
    "    # load original df\n",
    "    df = pd.read_csv(orig_train_path + file, sep='|')\n",
    "    # find first row with SepsisLabel == 1\n",
    "    for idx, row in df.iterrows():\n",
    "        if row['SepsisLabel'] == 1:\n",
    "            break\n",
    "    # trim the df accordingly\n",
    "    df = df.iloc[:idx+1, :]\n",
    "    # save the trimmed df in a new directory\n",
    "    df.to_csv(train_path + file, index=False, sep='|') "
   ]
  }
 ],
 "metadata": {
  "kernelspec": {
   "display_name": "Python 3 (ipykernel)",
   "language": "python",
   "name": "python3"
  },
  "language_info": {
   "codemirror_mode": {
    "name": "ipython",
    "version": 3
   },
   "file_extension": ".py",
   "mimetype": "text/x-python",
   "name": "python",
   "nbconvert_exporter": "python",
   "pygments_lexer": "ipython3",
   "version": "3.8.13"
  }
 },
 "nbformat": 4,
 "nbformat_minor": 5
}
